{
 "cells": [
  {
   "metadata": {},
   "cell_type": "markdown",
   "source": [
    "# Analysis of the Choroid Plexus"
   ],
   "id": "3aa62470fd8fc2e9"
  },
  {
   "metadata": {},
   "cell_type": "code",
   "source": [
    "from tabulate import tabulate\n",
    "# %matplotlib qt4\n",
    "%matplotlib inline\n",
    "\n",
    "%load_ext autoreload\n",
    "%autoreload 2\n",
    "\n",
    "from variables import LABEL_TO_NAME, LABEL_TO_MAIN_NAME, PLOT_DIR\n",
    "from src._types import SavedModelTypes\n",
    "from variables import MS_TYPE_COLORS, MS_TYPE_MAIN_COLORS, MS_TYPES, MS_TYPE_MAIN_EDGECOLORS, MS_TYPE_EDGECOLORS, MAIN_NAME_TO_LABEL\n",
    "from statsmodels.formula.api import ols\n",
    "\n",
    "\n",
    "from tqdm import tqdm\n",
    "from src.utils.visualisation import add_cloud_plot_to_axs\n",
    "\n",
    "import pandas as pd\n",
    "import matplotlib.pyplot as plt\n",
    "import seaborn as sns\n",
    "import numpy as np\n",
    "import pingouin as pg\n",
    "import torch\n",
    "\n",
    "import os\n",
    "import math\n",
    "\n",
    "plt.rcParams['axes.facecolor'] = 'white'\n",
    "%matplotlib inline\n"
   ],
   "id": "c04bead043539d45",
   "outputs": [],
   "execution_count": null
  },
  {
   "metadata": {},
   "cell_type": "markdown",
   "source": [
    "## Settings\n",
    "Please provide the setup for running the analysis"
   ],
   "id": "fa6ff99efbedd381"
  },
  {
   "metadata": {},
   "cell_type": "code",
   "source": [
    "# main directories\n",
    "checkpoint_dir = \"../../models/\"\n",
    "data_dir = \"../../data/analysis_data/\"\n",
    "results_dir = \"../../reports/results/\"\n",
    "figures_dir = \"../../reports/figures/\"\n",
    "original_folders = [\"original_samples_test\", \"original_samples_train\", \"original_samples_val\"]\n",
    "\n",
    "# general settings\n",
    "device = \"cpu\"\n",
    "ignore_geometric_columns = [\"idx\", \"bbox-0\", \"bbox-1\", \"bbox-2\", \"bbox-3\", \"bbox-4\", \"bbox-5\"]"
   ],
   "id": "7b78d0c598286da8",
   "outputs": [],
   "execution_count": null
  },
  {
   "metadata": {},
   "cell_type": "code",
   "source": [
    "def preprocess_geometric_df(df: pd.DataFrame) -> pd.DataFrame:\n",
    "    drop_columns = [column for column in ignore_geometric_columns if column in df.columns]\n",
    "    df = df.drop(drop_columns, axis=1)\n",
    "    df.columns = df.columns.str.replace('-', '_')\n",
    "    df[\"label_name\"] = df[\"label\"].map(LABEL_TO_MAIN_NAME)\n",
    "    df[\"initial_label_name\"] = df[\"initial_label\"].map(LABEL_TO_NAME)\n",
    "    return df.drop([\"label\", \"initial_label\"], axis=1)\n",
    "\n",
    "def prepare_geometric_dfs(df_name: str):\n",
    "    \"\"\"\n",
    "    Prepare the geometric dataframes for analysis\n",
    "    \"\"\"\n",
    "    df = pd.read_csv(os.path.join(data_dir, df_name))\n",
    "    return preprocess_geometric_df(df)"
   ],
   "id": "a88336a42ed61a42",
   "outputs": [],
   "execution_count": null
  },
  {
   "metadata": {},
   "cell_type": "code",
   "source": [
    "# load model independent files\n",
    "evaluation_metrics_df = pd.read_csv(os.path.join(data_dir, \"evaluation_metrics.csv\"))\n",
    "geometrics_features_df = prepare_geometric_dfs(\"geometric_features.csv\")\n",
    "geometrics_features_df.head()"
   ],
   "id": "9b2951172484f096",
   "outputs": [],
   "execution_count": null
  },
  {
   "metadata": {},
   "cell_type": "code",
   "source": [
    "  # Model for analysis (please create before all necessary files by running preparation, evaluation and analysis pipelines, please check that you set paths accordingly)\n",
    "model_name = SavedModelTypes.bdae_20_2048_5_cond_encoder_shift_scale_alpha\n",
    "# model_params = {\"kld\": 50, \"ch\": 64}\n",
    "# model_checkpoint = \"final_cvae_ch64_kld50_base_20250709_161140_best\"\n",
    "prototypes_filename = f\"prototypes_{model_name.value}.pkl\"\n",
    "prototypes_3D_filename = f\"prototypes_3D_{model_name.value}.npz\"\n",
    "cluster_prototypes_filename = f\"cluster_prototypes.npz\"\n",
    "prototypes_initial_3D_filename = f\"prototypes_initial_3D_{model_name.value}.npz\"\n",
    "latents_filename = f\"features_{model_name.value}.pkl\"\n",
    "samples_folder = f\"samples_{model_name.value}\"\n",
    "samples_folder_full = f\"samples_{model_name.value}_full\"\n",
    "sampled_geometrics_features_df = prepare_geometric_dfs(f\"{samples_folder}/geometric_features.csv\")\n",
    "sampled_geometrics_features_full_df = prepare_geometric_dfs(f\"{samples_folder_full}/geometric_features.csv\")"
   ],
   "id": "9ce32520c6e1768",
   "outputs": [],
   "execution_count": null
  },
  {
   "metadata": {},
   "cell_type": "markdown",
   "source": [
    "# Model Comparison\n",
    "The evaluation results of the different models to find the best model"
   ],
   "id": "4b4796d82dde3ade"
  },
  {
   "metadata": {},
   "cell_type": "code",
   "source": [
    "def make_pretty(styler):\n",
    "    styler.set_caption(\"Weather Conditions\")\n",
    "    styler.background_gradient(axis=None, vmin=0, vmax=1, cmap=\"Purples\")\n",
    "    return styler\n",
    "\n",
    "evaluation_metrics_df.drop(\"checkpoint_name\", axis=1) #.style.pipe(make_pretty)"
   ],
   "id": "bc4f864da07fbe96",
   "outputs": [],
   "execution_count": null
  },
  {
   "metadata": {},
   "cell_type": "markdown",
   "source": [
    "# Raw Data"
   ],
   "id": "2147bb4f8970fb12"
  },
  {
   "metadata": {},
   "cell_type": "code",
   "source": [
    "means_subtypes = np.zeros((5, 96,96,96))\n",
    "means_main = np.zeros((2, 96,96,96))\n",
    "num_samples_subtypes = np.zeros(5)\n",
    "num_samples_main = np.zeros(2)\n",
    "\n",
    "for folder in original_folders:\n",
    "    print(\"Retrieving data from\", folder)\n",
    "    raw_data = np.load(os.path.join(data_dir, folder, \"samples.npz\"))\n",
    "    for i, image in tqdm(enumerate(raw_data[\"images\"])):\n",
    "        means_main[raw_data[\"labels\"][i]]+= image[0]\n",
    "        means_subtypes[raw_data[\"initial_labels\"][i]] += image[0]\n",
    "        num_samples_main[raw_data[\"labels\"][i]] += 1\n",
    "        num_samples_subtypes[raw_data[\"initial_labels\"][i]] += 1\n",
    "\n",
    "means_subtypes /= np.expand_dims(num_samples_subtypes, axis=(1, 2, 3))\n",
    "means_main /= np.expand_dims(num_samples_main, axis=(1, 2, 3))"
   ],
   "id": "3871a86fc272705d",
   "outputs": [],
   "execution_count": null
  },
  {
   "metadata": {},
   "cell_type": "markdown",
   "source": [
    "## Geomterics\n",
    "Based on samples (newly generated and original ones) geometric properties have been computed that can be further analyzed"
   ],
   "id": "5e52f5504ca11426"
  },
  {
   "metadata": {},
   "cell_type": "code",
   "source": [
    "from scipy.stats import zscore\n",
    "\n",
    "# For each group, compute the mean across columns\n",
    "def get_mean_geometrics_df(base_df, normalize: bool = False, group_by: str = \"label_name\") -> (pd.DataFrame, pd.DataFrame):\n",
    "    main_mean_geometrics = []\n",
    "    main_std_geometrics = []\n",
    "    remove_columns = [\"initial_label_name\", \"label_name\"]\n",
    "    cols_to_norm = [c for c in base_df.columns if c not in remove_columns]\n",
    "    df = base_df.copy()\n",
    "    if normalize:\n",
    "        df[cols_to_norm] = base_df.drop(remove_columns, axis=1)[cols_to_norm].apply(zscore, axis=0)\n",
    "    for group, group_df in df.groupby(group_by):\n",
    "        means = group_df.drop(columns=remove_columns).mean().round(5)\n",
    "        means[group_by] = group\n",
    "        main_mean_geometrics.append(means)\n",
    "\n",
    "        std = group_df.drop(columns=remove_columns).std().round(5)\n",
    "        std[group_by] = group\n",
    "        main_std_geometrics.append(std)\n",
    "\n",
    "    mean_df = pd.DataFrame(main_mean_geometrics)\n",
    "    mean_df.set_index(group_by, inplace=True)\n",
    "\n",
    "    std_df = pd.DataFrame(main_std_geometrics)\n",
    "    std_df.set_index(group_by, inplace=True)\n",
    "    return mean_df, std_df\n",
    "\n",
    "main_mean_geometrics_df, main_std_geometrics_df = get_mean_geometrics_df(geometrics_features_df)\n",
    "initial_mean_geometrics_df, initial_std_geometrics_df = get_mean_geometrics_df(geometrics_features_df, group_by=\"initial_label_name\")\n",
    "main_norm_mean_geometrics_df, _ = get_mean_geometrics_df(geometrics_features_df, normalize=True)\n",
    "initial_norm_mean_geometrics_df, _ = get_mean_geometrics_df(geometrics_features_df, normalize=True, group_by=\"initial_label_name\")\n",
    "\n",
    "samples_mean_geometrics_df, samples_std_geometrics_df = get_mean_geometrics_df(geometrics_features_df)\n",
    "samples_norm_mean_geometrics_df, _ = get_mean_geometrics_df(geometrics_features_df, normalize=True)\n",
    "samples_mean_geometrics_df.head()"
   ],
   "id": "283608845843e5da",
   "outputs": [],
   "execution_count": null
  },
  {
   "metadata": {},
   "cell_type": "code",
   "source": [
    "# Shorter code for simply getting/ reading std\n",
    "numeric_cols = geometrics_features_df.select_dtypes(include='number').columns\n",
    "geometrics_features_df.groupby('initial_label_name')[numeric_cols].agg(['mean', 'std'])"
   ],
   "id": "bcd85a90ae828615",
   "outputs": [],
   "execution_count": null
  },
  {
   "metadata": {},
   "cell_type": "markdown",
   "source": [
    "#### The differences between HC and MS"
   ],
   "id": "2729da0b7b98d4e4"
  },
  {
   "metadata": {},
   "cell_type": "code",
   "source": [
    "def create_diff_plot(df):\n",
    "    diff = df.iloc[0] - df.iloc[1]\n",
    "    diff_df = pd.DataFrame({\n",
    "        'Feature': diff.index.astype(str),\n",
    "        'Mean Difference': diff.values,\n",
    "        'Direction': ['HC > MS' if v > 0 else 'MS > HC' for v in diff.values]\n",
    "    })\n",
    "    plt.figure(figsize=(8, 5))\n",
    "    sns.barplot(data=diff_df, x='Feature', y='Mean Difference', hue='Direction', dodge=False, palette={'HC > MS': 'green', 'MS > HC': 'red'})\n",
    "    plt.axhline(0, color='black', linewidth=0.8)\n",
    "    plt.xticks(rotation=90)\n",
    "    plt.title(\"Mean Difference per Feature\")\n",
    "    plt.tight_layout()\n",
    "    plt.show()\n",
    "create_diff_plot(main_norm_mean_geometrics_df)"
   ],
   "id": "3ce1c7cb0c90fedc",
   "outputs": [],
   "execution_count": null
  },
  {
   "metadata": {},
   "cell_type": "code",
   "source": [
    "def create_bar_plot(mean_df, columns, std_df=None, label_key: str = \"label_name\", individually: bool = False, save_to: str = None, plot_name: str = \"geometrics_barplot\"):\n",
    "    \"\"\"\n",
    "    Plot all columns of the dataframe to a barplot comparing the values per group (in index)\n",
    "    \"\"\"\n",
    "    mean_sub_df = mean_df.reset_index()\n",
    "    if std_df is not None:\n",
    "        std_sub_df = std_df.reset_index()\n",
    "    if not individually:\n",
    "        num_columns = len(columns)\n",
    "        cols = 2  # Number of columns in the grid of subplots\n",
    "        rows = math.ceil(num_columns / cols)\n",
    "        fig, axes = plt.subplots(rows, cols, figsize=(cols * 6, rows * 4), constrained_layout=True)\n",
    "        axes = axes.flatten()\n",
    "\n",
    "    i=0\n",
    "    label_order = list(MS_TYPES.keys() if label_key == \"initial_label_name\" else MAIN_NAME_TO_LABEL.keys())\n",
    "    # add mean barplot\n",
    "    for i, column in enumerate(columns):\n",
    "        if column in [\"label_name\", \"initial_label_name\"]:\n",
    "            continue\n",
    "\n",
    "        if individually:\n",
    "            fig, ax = plt.subplots(figsize=(12, 8))\n",
    "        else:\n",
    "            ax = axes[i]\n",
    "\n",
    "        ax.set_facecolor('white')\n",
    "        sns.barplot(data=mean_sub_df,x=label_key,y=column,order=label_order,ax=ax,hue= label_key,\n",
    "            palette=\n",
    "            {label: MS_TYPE_COLORS[MS_TYPES[label]] for label in mean_sub_df['initial_label_name'].unique()} if label_key == \"initial_label_name\" else\n",
    "            {label: MS_TYPE_MAIN_COLORS[MAIN_NAME_TO_LABEL[label]] for label in mean_sub_df['label_name'].unique()}\n",
    "        )\n",
    "\n",
    "        if std_df is not None:\n",
    "            # add error bars\n",
    "            for index, label in enumerate(label_order):\n",
    "                mean = mean_sub_df[mean_sub_df[label_key] == label][column].values\n",
    "                std = std_sub_df[std_sub_df[label_key] == label][column].values\n",
    "                if len(mean) > 0 and len(std) > 0:\n",
    "                    ax.errorbar(x=index,y=mean[0],yerr=std[0],color=\"black\")\n",
    "\n",
    "        ax.axhline(0, color='black', linewidth=0.8)\n",
    "        ax.set_title(column)\n",
    "        ax.tick_params(axis='x')\n",
    "\n",
    "        if individually:\n",
    "            plt.tight_layout()\n",
    "            if save_to is not None:\n",
    "                plt.savefig(os.path.join(PLOT_DIR, plot_name + column + save_to))\n",
    "            plt.show()\n",
    "\n",
    "    if not individually:\n",
    "        for j in range(i, len(axes)):\n",
    "            fig.delaxes(axes[j])\n",
    "        if save_to is not None:\n",
    "            plt.savefig(os.path.join(PLOT_DIR, plot_name + save_to))\n",
    "    plt.show()\n",
    "\n",
    "\n",
    "def create_box_plot(mean_df, columns, label_key: str = \"label_name\", individually: bool = False, save_to: str = None, plot_name: str = \"geometrics_boxplot\"):\n",
    "    \"\"\"\n",
    "    Plot all columns of the dataframe to a barplot comparing the values per group (in index)\n",
    "    \"\"\"\n",
    "    mean_sub_df = mean_df.reset_index()\n",
    "\n",
    "    if not individually:\n",
    "        num_columns = len(columns)\n",
    "        cols = 2  # Number of columns in the grid of subplots\n",
    "        rows = math.ceil(num_columns / cols)\n",
    "        fig, axes = plt.subplots(rows, cols, figsize=(cols * 6, rows * 4), constrained_layout=True)\n",
    "        axes = axes.flatten()\n",
    "    i = 0\n",
    "    label_order = list(MS_TYPES.keys() if label_key == \"initial_label_name\" else MAIN_NAME_TO_LABEL.keys())\n",
    "    # add mean barplot\n",
    "    for i, column in enumerate(columns):\n",
    "        if column in [\"label_name\", \"initial_label_name\"]:\n",
    "            continue\n",
    "        if individually:\n",
    "            fig, ax = plt.subplots(figsize=(6,4))\n",
    "        else:\n",
    "            ax = axes[i]\n",
    "        ax.set_facecolor('white')\n",
    "        sns.boxplot(data=mean_sub_df, x=label_key, y=column, order=label_order, ax=ax, hue=label_key,\n",
    "                    palette=\n",
    "                    {label: MS_TYPE_COLORS[MS_TYPES[label]] for label in\n",
    "                     mean_sub_df['initial_label_name'].unique()} if label_key == \"initial_label_name\" else\n",
    "                    {label: MS_TYPE_MAIN_COLORS[MAIN_NAME_TO_LABEL[label]] for label in mean_sub_df['label_name'].unique()}\n",
    "        )\n",
    "\n",
    "        ax.axhline(0, color='black', linewidth=0.8)\n",
    "        ax.set_title(column)\n",
    "        ax.set_facecolor('white')\n",
    "        ax.tick_params(axis='x')\n",
    "        if individually:\n",
    "            plt.tight_layout()\n",
    "            if save_to is not None:\n",
    "                plt.savefig(os.path.join(PLOT_DIR, plot_name + \"_\" + column + save_to))\n",
    "            plt.show()\n",
    "\n",
    "    if not individually:\n",
    "        for j in range(i, len(axes)):\n",
    "            fig.delaxes(axes[j])\n",
    "        if save_to is not None:\n",
    "            plt.savefig(os.path.join(PLOT_DIR, plot_name + save_to))\n",
    "\n",
    "\n",
    "    plt.show()\n",
    "\n",
    "# create_box_plot(geometrics_features_df, geometrics_features_df.columns)\n",
    "create_box_plot(sampled_geometrics_features_df, sampled_geometrics_features_df.columns, label_key=\"initial_label_name\", individually=True)\n",
    "# create_bar_plot(main_mean_geometrics_df, main_mean_geometrics_df.columns, main_std_geometrics_df)"
   ],
   "id": "a7d70815aee361e4",
   "outputs": [],
   "execution_count": null
  },
  {
   "metadata": {},
   "cell_type": "markdown",
   "source": [
    "### Geometric Distribution for Sampled and Original Data"
   ],
   "id": "df0c50d59ad6350"
  },
  {
   "metadata": {},
   "cell_type": "code",
   "source": [
    "def create_geometric_distributions(df_original, df_sampled, columns, label_key=\"label_name\", save_to: str = None):\n",
    "    unique_labels = df_original[label_key].unique()\n",
    "    n_rows = 2\n",
    "    for column in columns:\n",
    "        fig, axes = plt.subplots(nrows=n_rows, ncols=1)\n",
    "        for i, label in enumerate(unique_labels):\n",
    "            # Filter the data for the current label\n",
    "            df_original_label = df_original[df_original[label_key] == label]\n",
    "            df_sampled_label = df_sampled[df_sampled[label_key] == label]\n",
    "            sns.histplot(df_original_label,alpha=0.2, x=column, element=\"step\", stat =\"probability\", common_norm=False, color=\"grey\", ax=axes[i],  label=\"original\")\n",
    "            sns.histplot(df_sampled_label, alpha=0.2, x=column, color=MS_TYPE_MAIN_COLORS[i], element=\"step\", stat =\"probability\", common_norm=False, ax=axes[i], label=\"sampled\")\n",
    "            axes[i].legend()\n",
    "            axes[i].set_xlabel(\"\")\n",
    "\n",
    "        plt.suptitle(column)\n",
    "        if save_to is not None:\n",
    "            plt.savefig(os.path.join(PLOT_DIR, \"distributions\", column + save_to))\n",
    "        plt.show()\n",
    "create_geometric_distributions(geometrics_features_df, sampled_geometrics_features_full_df, geometrics_features_df.columns,save_to = \".png\")"
   ],
   "id": "366a72899c92d076",
   "outputs": [],
   "execution_count": null
  },
  {
   "metadata": {},
   "cell_type": "markdown",
   "source": [
    "### Statistical Analysis of geometrics\n",
    "To assess statistical differences using an ANOVA we first have to check its assumptions. Normal distributed values as well as homogeneity of variances"
   ],
   "id": "6d375b6ca53cdd3d"
  },
  {
   "metadata": {},
   "cell_type": "code",
   "source": [
    "def check_anova_assumptions(df, dv: str, idv: str):\n",
    "    print(f\"Checking assumptions for {dv}\")\n",
    "    # 1. homoscedasticity\n",
    "    print(pg.homoscedasticity(data= df, dv=dv, group=idv).round(2))\n",
    "    print(pg.normality(df[dv], method='normaltest'))\n",
    "    # 2. normal distributed\n",
    "    formula = f'{dv} ~ {idv}'\n",
    "    model = ols(formula, data=df).fit()\n",
    "    res = model.resid\n",
    "    pg.qqplot(res, dist='norm')\n",
    "    sns.despine()\n",
    "    plt.show()\n",
    "    sns.histplot(res)\n",
    "    sns.despine()\n",
    "    plt.show()\n",
    "#\n",
    "for column in [item for item in sampled_geometrics_features_df.columns.tolist() if item not in ignore_geometric_columns]:\n",
    "    check_anova_assumptions(geometrics_features_df, column, \"initial_label_name\")"
   ],
   "id": "aba97cf531e0a8d6",
   "outputs": [],
   "execution_count": null
  },
  {
   "metadata": {},
   "cell_type": "code",
   "source": [
    "# from tabulate import tabulate\n",
    "def perform_anova(df, idv, columns, welch: bool = False):\n",
    "    for column in columns:\n",
    "        if not pd.api.types.is_numeric_dtype(df[column]):\n",
    "            print(f\"\\nskipping column {column}, since it is not numeric\")\n",
    "            continue\n",
    "        print(\"\\nANOVA for column {}\".format(column))\n",
    "        if welch:\n",
    "            anova_results = pg.welch_anova(dv=column, between=idv, data=df)\n",
    "        else:\n",
    "            anova_results = pg.anova(dv=column,\n",
    "                 between=idv,\n",
    "                 data=df)\n",
    "        print(anova_results)\n",
    "        print(\"Means\", df.groupby(idv)[column].mean())\n",
    "        print(\"std\", df.groupby(idv)[column].std())\n",
    "        # if anova_results['p-unc'][0] < 0.05:\n",
    "        #     print(f\"anova was significant, performing pairwise tukey test\")\n",
    "        #     tukey_result = pg.pairwise_tukey(data=df, dv=column, between=idv)\n",
    "        #     significant = tukey_result[tukey_result['p-tukey'] < 0.05]\n",
    "        #     print(significant)\n",
    "\n",
    "perform_anova(geometrics_features_df.drop(geometrics_features_df[geometrics_features_df.label_name == \"HC\"].index), \"initial_label_name\", [item for item in geometrics_features_df.columns.tolist() if item not in ignore_geometric_columns], welch=False)"
   ],
   "id": "71d22e1bfefac734",
   "outputs": [],
   "execution_count": null
  },
  {
   "metadata": {},
   "cell_type": "code",
   "source": [
    "perform_anova(geometrics_features_df, \"label_name\", [item for item in geometrics_features_df.columns.tolist() if item not in ignore_geometric_columns], welch = False)\n"
   ],
   "id": "1c891ab851b202a6",
   "outputs": [],
   "execution_count": null
  },
  {
   "cell_type": "code",
   "execution_count": null,
   "outputs": [],
   "source": [
    "pg.pairwise_corr(geometrics_features_df, method='pearson', alternative='two-sided')"
   ],
   "metadata": {
    "collapsed": false
   },
   "id": "c1a8e1a004f28f1b"
  },
  {
   "metadata": {},
   "cell_type": "code",
   "source": [
    "from scipy.stats import ks_2samp\n",
    "\n",
    "def perform_ks_2sample(df, df2, columns, label_key=\"label_name\"):\n",
    "    grouped_df = df.groupby(label_key)\n",
    "    grouped_df2 = df2.groupby(label_key)\n",
    "\n",
    "    for label, group in grouped_df:\n",
    "        group2 = grouped_df2.get_group(label)\n",
    "        print(f\"\\nPerforming KS test for label: {label}\")\n",
    "\n",
    "        for column in columns:\n",
    "            if not pd.api.types.is_numeric_dtype(group[column]):\n",
    "                print(f\"Skipping column {column}, as it is not numeric\")\n",
    "                continue\n",
    "            ks_result = ks_2samp(group[column].tolist(), group2[column].tolist())\n",
    "            print(f\"KS test result for {column}:\")\n",
    "            print(ks_result)\n",
    "\n",
    "perform_ks_2sample(geometrics_features_df, sampled_geometrics_features_full_df, sampled_geometrics_features_full_df.columns)\n"
   ],
   "id": "975abcd56fd5774f",
   "outputs": [],
   "execution_count": null
  },
  {
   "metadata": {},
   "cell_type": "markdown",
   "source": [
    "## Prototypes\n",
    "Based on the samples prototypes have been generated for the different classes, those prototypes can be analyzed independently"
   ],
   "id": "16eb2cb1a6c64809"
  },
  {
   "metadata": {},
   "cell_type": "code",
   "source": [
    "prototypes = np.load(os.path.join(data_dir, samples_folder, prototypes_3D_filename))\n",
    "prototypes_initial = np.load(os.path.join(data_dir, samples_folder, prototypes_initial_3D_filename))"
   ],
   "id": "e1f06622a0781aa9",
   "outputs": [],
   "execution_count": null
  },
  {
   "metadata": {},
   "cell_type": "code",
   "source": [
    "%matplotlib inline\n",
    "def plot_prototypes(prototype_array, title, colors=MS_TYPE_MAIN_COLORS, edgecolors=MS_TYPE_MAIN_EDGECOLORS, names=LABEL_TO_MAIN_NAME, save_to: str = None, individually: bool = False, overlay_array: np.ndarray = None):\n",
    "    cols = prototype_array.shape[0] if not individually else 1\n",
    "    rows = 1\n",
    "    fig = plt.figure(figsize=(cols * 6, rows * 6))\n",
    "\n",
    "    for i in range(prototype_array.shape[0]):\n",
    "        if individually:\n",
    "            fig = plt.figure(figsize=(cols * 6, rows * 6))\n",
    "            ax = fig.add_subplot(1, 1, 1, projection=\"3d\")\n",
    "        else:\n",
    "            ax = fig.add_subplot(rows, cols, i + 1, projection=\"3d\")\n",
    "\n",
    "        if overlay_array is not None:\n",
    "            add_cloud_plot_to_axs(\n",
    "                overlay_array[i],\n",
    "                threshold=0.0,\n",
    "                ax=ax,\n",
    "                ax_limits=[(0, 100), (0, 100), (0, 100)],\n",
    "                color=colors[i],\n",
    "                alpha_mult=0.03,\n",
    "                edgecolors=edgecolors[i],\n",
    "            )\n",
    "\n",
    "        add_cloud_plot_to_axs(\n",
    "            prototype_array[i][0],\n",
    "            threshold=0.5,\n",
    "            ax=ax,\n",
    "            ax_limits=[(0, 100), (0, 100), (0, 100)],\n",
    "            color=colors[i],\n",
    "            edgecolors=edgecolors[i],\n",
    "        )\n",
    "\n",
    "        # ax.set_title(f\"{names[i]}\")\n",
    "        ax.set_facecolor('white')\n",
    "        if individually:\n",
    "            if save_to is not None:\n",
    "                plt.savefig(os.path.join(PLOT_DIR, model_name + \"_\" + names[i] + \"_\" + title + save_to))\n",
    "            plt.show()\n",
    "\n",
    "    # fig.suptitle(title)\n",
    "\n",
    "    # plt.tight_layout()\n",
    "    if not individually:\n",
    "        if save_to is not None:\n",
    "            plt.savefig(os.path.join(PLOT_DIR, model_name + \"_\" + title + save_to))\n",
    "        plt.show()\n",
    "\n",
    "plot_prototypes(prototypes[\"images\"], \"Prototypes Main Classes\", save_to=\".png\", individually=True, overlay_array=means_main)\n",
    "plot_prototypes(prototypes_initial[\"images\"], \"Prototypes Subtypes\", names=LABEL_TO_NAME, colors=MS_TYPE_COLORS, edgecolors=MS_TYPE_EDGECOLORS, save_to=\".png\", individually=True, overlay_array=means_subtypes)\n",
    "plt.show()\n",
    "# If this cell freezes comment the scatter and color bar in add_cloud_plot_to_axs out run it and then comment in again, I do not know yet why this works"
   ],
   "id": "f929470d55436f8d",
   "outputs": [],
   "execution_count": null
  },
  {
   "metadata": {},
   "cell_type": "markdown",
   "source": [
    "### Difference plot between prototypes"
   ],
   "id": "5b68f2ae03c58562"
  },
  {
   "metadata": {},
   "cell_type": "code",
   "source": [
    "from src.analysis.plots import shape_difference_plot\n",
    "\n",
    "shape_difference_plot(prototypes_initial[\"images\"][1][0],prototypes_initial[\"images\"][0][0])\n",
    "plt.show()"
   ],
   "id": "8fba131ea7914190",
   "outputs": [],
   "execution_count": null
  },
  {
   "metadata": {},
   "cell_type": "markdown",
   "source": [
    "### Geometrics of Prototypes"
   ],
   "id": "b19e54a13af6ef8"
  },
  {
   "metadata": {},
   "cell_type": "code",
   "source": [
    "from variables import MS_TYPES_TO_MAIN_TYPE\n",
    "from src.analysis.shape_metrics import compute_metrics_for_sample\n",
    "\n",
    "def geometrics_for_prototype(proto, label_key=\"label_name\", labels=None):\n",
    "    rows = []\n",
    "    for i, prototype in tqdm(enumerate(proto[\"images\"])):\n",
    "        metric_table = compute_metrics_for_sample(prototype[0], raw_features=True)\n",
    "        metric_table[\"initial_label\"] = i\n",
    "        metric_table[\"label\"] = labels[i] if labels is not None else MS_TYPES_TO_MAIN_TYPE[i]\n",
    "        rows.append(metric_table)\n",
    "    prototype_geometrics_df = preprocess_geometric_df(pd.DataFrame(rows))\n",
    "    # create_bar_plot(prototype_geometrics_df, prototype_geometrics_df.columns, label_key=label_key, save_to=\".svg\", individually=True, plot_name=\"geometrics_prototypes\")\n",
    "    return prototype_geometrics_df\n",
    "prototype_geometrics_df = geometrics_for_prototype(prototypes_initial)"
   ],
   "id": "c017b3aa38cdddb6",
   "outputs": [],
   "execution_count": null
  },
  {
   "metadata": {},
   "cell_type": "code",
   "source": [
    "prototype_geometrics_df"
   ],
   "id": "e99f1a5b9d856e6b",
   "outputs": [],
   "execution_count": null
  },
  {
   "metadata": {},
   "cell_type": "code",
   "source": [
    "MS_proto_geometrics = prototype_geometrics_df.iloc[1:]\n",
    "MS_proto_geometrics.drop([\"label_name\", \"initial_label_name\"], axis=1).mean()"
   ],
   "id": "5d7b8a7bbf006138",
   "outputs": [],
   "execution_count": null
  },
  {
   "metadata": {},
   "cell_type": "code",
   "source": [
    "MS_proto_geometrics.drop([\"label_name\", \"initial_label_name\"], axis=1).std()"
   ],
   "id": "b858a17202d85ffd",
   "outputs": [],
   "execution_count": null
  },
  {
   "metadata": {},
   "cell_type": "markdown",
   "source": [
    "## Clustering\n",
    "Visualization and playground for clustering of precomputed data samples"
   ],
   "id": "ae1913bc6790515e"
  },
  {
   "metadata": {},
   "cell_type": "code",
   "source": [
    "from variables import MS_TYPE_DETAILS, MS_MAIN_TYPE_DETAILS\n",
    "from src.analysis.latents import reduced_clustering\n",
    "from src.analysis.utils import load_np_latents\n",
    "\n",
    "def plot_clustering_results(result, label_array, classes, colors, markers=None, save_to: str = None, plot_name: str = \"clustering\"):\n",
    "    plt.figure(figsize=(6,4))\n",
    "\n",
    "    for i, class_name in enumerate(classes):\n",
    "        idx = (label_array == i)\n",
    "        zorder = 1 if i == 3 else 2\n",
    "        plt.scatter(\n",
    "            result[idx, 0], result[idx, 1],\n",
    "            color=colors[i],\n",
    "            marker=MS_TYPE_DETAILS[\"markers\"][i] if markers is not None else 'o',\n",
    "            label=class_name,\n",
    "            alpha=0.5,\n",
    "            s=40,\n",
    "            zorder=zorder,\n",
    "        )\n",
    "    plt.legend(title=\"Classes\")\n",
    "    plt.xlabel(\"UMAP Component 1\")\n",
    "    plt.ylabel(\"UMAP Component 2\")\n",
    "    plt.title('UMAP Projection of Latent Embeddings')\n",
    "    if save_to is not None:\n",
    "        plt.savefig(os.path.join(PLOT_DIR, plot_name + save_to))\n",
    "    plt.show()"
   ],
   "id": "11b9570b7c80b761",
   "outputs": [],
   "execution_count": null
  },
  {
   "metadata": {},
   "cell_type": "code",
   "source": [
    "kwargs = {\n",
    "   \"map_location\": torch.device('cpu')\n",
    "}\n",
    "embeddings, labels, initial_labels = load_np_latents(\n",
    "    \"\",\n",
    "    file_name=latents_filename,\n",
    "    alternative_paths=[str(os.path.join(data_dir, folder)) for folder in original_folders],\n",
    "    kwargs_load=kwargs\n",
    ")\n",
    "kwargs = {}\n",
    "args = {\n",
    "    \"umap\": [10] # [8,10,15],\n",
    "    # \"tsne\": [10, 20, 30]\n",
    "}\n",
    "for method in [\"umap\"]: #, \"tsne\"]:\n",
    "    for i in args[method]:\n",
    "        if method == \"tsne\":\n",
    "            kwargs[\"perplexity\"] = i\n",
    "            if kwargs.get(\"n_neighbors\") is not None:\n",
    "                del kwargs[\"n_neighbors\"]\n",
    "\n",
    "        if method == \"umap\":\n",
    "            kwargs[\"n_neighbors\"] = i\n",
    "            kwargs[\"random_state\"] = 0\n",
    "\n",
    "        cluster_result = reduced_clustering(embeddings, kwargs=kwargs, mode=method)\n",
    "\n",
    "        print(\"Method: \", method)\n",
    "\n",
    "        plot_clustering_results(cluster_result, labels, MS_MAIN_TYPE_DETAILS[\"names\"], MS_MAIN_TYPE_DETAILS[\"colors\"], MS_MAIN_TYPE_DETAILS[\"markers\"], plot_name=method + str(i), save_to=\".png\")\n",
    "        plot_clustering_results(cluster_result, initial_labels, MS_TYPE_DETAILS[\"names\"], MS_TYPE_DETAILS[\"colors\"], MS_TYPE_DETAILS[\"markers\"], plot_name=method + str(i), save_to=\".png\")"
   ],
   "id": "5e61ee08d53d5c11",
   "outputs": [],
   "execution_count": null
  },
  {
   "metadata": {},
   "cell_type": "code",
   "source": [
    "from matplotlib.lines import Line2D\n",
    "from sklearn.cluster import KMeans\n",
    "kmeans = KMeans(n_clusters=8, random_state=0)\n",
    "cluster_labels = kmeans.fit_predict(cluster_result)\n",
    "#\n",
    "plt.figure(figsize=(6,4), facecolor=\"white\")\n",
    "scatter = plt.scatter(cluster_result[:, 0], cluster_result[:, 1], c=cluster_labels, cmap='viridis', s=40, alpha=0.5)\n",
    "plt.title('UMAP Projection with KMeans Clusters')\n",
    "plt.xlabel('UMAP Component 1')\n",
    "plt.ylabel('UMAP Component 2')\n",
    "colors = [scatter.cmap(scatter.norm(i)) for i in range(kmeans.n_clusters)]\n",
    "legend_handles = [Line2D([0], [0], marker='o', color=\"whitesmoke\",markerfacecolor=color, markersize=10, label=f\"{i}\")\n",
    "                  for i, color in enumerate(colors)]\n",
    "plt.legend(handles=legend_handles, title='Clusters')\n",
    "plt.savefig(os.path.join(PLOT_DIR, \"kmeans_of_umap.png\"))\n",
    "plt.show()\n",
    "\n",
    "cluster_means = []\n",
    "new_embeddings = embeddings.copy()\n",
    "for cluster_id in range(kmeans.n_clusters):\n",
    "    cluster_data_points = embeddings[cluster_labels == cluster_id]\n",
    "    cluster_mean = cluster_data_points.mean(axis=0)\n",
    "    cluster_means.append(cluster_mean)\n",
    "cluster_means = np.array(cluster_means)\n",
    "embeddings_with_means = np.vstack([embeddings, cluster_means])\n",
    "kwargs_mean = {\n",
    "    \"n_neighbors\": 10,\n",
    "    \"random_state\": 0\n",
    "}\n",
    "cluster_result_means = reduced_clustering(embeddings_with_means, kwargs=kwargs_mean, mode=\"umap\")\n",
    "#\n",
    "# kmeans_means = KMeans(n_clusters=5, random_state=0)\n",
    "# cluster_labels_means = kmeans_means.fit_predict(cluster_result_means)\n",
    "# cluster_labels_means[-5:] = 10\n",
    "# plt.figure(figsize=(6,4))\n",
    "# scatter = plt.scatter(cluster_result_means[:, 0], cluster_result_means[:, 1], c=cluster_labels_means, label=cluster_labels_means, cmap='rainbow', s=40, alpha=0.5)\n",
    "# plt.colorbar(scatter, label='Cluster ID')\n",
    "# plt.title('UMAP Projection with KMeans Clusters')\n",
    "# plt.xlabel('UMAP Component 1')\n",
    "# plt.ylabel('UMAP Component 2')\n",
    "# plt.savefig(os.path.join(PLOT_DIR, \"kmeans_with_means.png\"))\n",
    "# # Show the plot\n",
    "# plt.show()"
   ],
   "id": "8f7078f68cd0c8d9",
   "outputs": [],
   "execution_count": null
  },
  {
   "metadata": {},
   "cell_type": "code",
   "source": [
    "from matplotlib import cm\n",
    "\n",
    "cluster_prototypes = np.load(os.path.join(data_dir, samples_folder, cluster_prototypes_filename))\n",
    "cmap = cm.viridis\n",
    "num_clusters = 8\n",
    "colors = [cmap(i / (num_clusters - 1)) for i in range(num_clusters)]  # Normalized values from 0 to 1\n",
    "print(cluster_prototypes[\"images\"].shape[0])\n",
    "# Create a darker color for each cluster (by scaling the RGB values)\n",
    "dark_colors = [tuple([max(0, x * 0.5) for x in color[:3]]) + (color[3],)  # Darken by reducing brightness\n",
    "               for color in colors]\n",
    "plot_prototypes(cluster_prototypes[\"images\"], \"Cluster Prototypes\", names=list(map(str, range(5))), colors=colors, edgecolors=dark_colors, save_to=\".png\", individually=True)"
   ],
   "id": "9df081437b8ee751",
   "outputs": [],
   "execution_count": null
  },
  {
   "metadata": {},
   "cell_type": "code",
   "source": [
    "print(cluster_prototypes[\"images\"].shape)\n",
    "geometrics_for_prototype(cluster_prototypes, label_key=\"initial_label_name\", labels = range(8)).drop([1,3,4])"
   ],
   "id": "60bb1328410afb37",
   "outputs": [],
   "execution_count": null
  },
  {
   "cell_type": "code",
   "execution_count": null,
   "outputs": [],
   "source": [
    "c0 = cluster_prototypes[\"images\"][0][0]"
   ],
   "metadata": {
    "collapsed": false
   },
   "id": "dc0c432159a5f2b2"
  },
  {
   "cell_type": "code",
   "execution_count": null,
   "outputs": [],
   "source": [
    "def bbox2_3D(img):\n",
    "\n",
    "    segmentation = np.where(img > 0.5)\n",
    "\n",
    "    # Bounding Box\n",
    "    bbox = 0, 0, 0, 0\n",
    "    if len(segmentation) != 0 and len(segmentation[1]) != 0 and len(segmentation[0]) != 0:\n",
    "        y_min = int(np.min(segmentation[0]))\n",
    "        y_max = int(np.max(segmentation[0]))\n",
    "        x_min = int(np.min(segmentation[1]))\n",
    "        x_max = int(np.max(segmentation[1]))\n",
    "        z_min = int(np.min(segmentation[2]))\n",
    "        z_max = int(np.max(segmentation[2]))\n",
    "\n",
    "        bbox = y_max-y_min, x_max-x_min, z_max-z_min\n",
    "        print(bbox)"
   ],
   "metadata": {
    "collapsed": false
   },
   "id": "b98dc8ca62f7e98f"
  },
  {
   "cell_type": "code",
   "execution_count": null,
   "outputs": [],
   "source": [
    "bbox2_3D(c0)"
   ],
   "metadata": {
    "collapsed": false
   },
   "id": "7b62cc6d82f9eae6"
  },
  {
   "cell_type": "code",
   "execution_count": null,
   "outputs": [],
   "source": [],
   "metadata": {
    "collapsed": false
   },
   "id": "2d8246fd4a537fca"
  }
 ],
 "metadata": {
  "kernelspec": {
   "name": "python3",
   "language": "python",
   "display_name": "Python 3 (ipykernel)"
  }
 },
 "nbformat": 5,
 "nbformat_minor": 9
}
